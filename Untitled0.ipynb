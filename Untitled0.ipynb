{
 "metadata": {
  "name": "",
  "signature": "sha256:156fe33ebff18f78526f88f1ace6a5d916b5aa077a8b9ba0ada90ace7351edb7"
 },
 "nbformat": 3,
 "nbformat_minor": 0,
 "worksheets": [
  {
   "cells": [
    {
     "cell_type": "code",
     "collapsed": false,
     "input": [
      "import requests\n",
      "\n",
      "s = requests.Session()\n",
      "\n",
      "url=\"http://www.quelprenom.com/prenom-fille.php\"\n",
      "\n",
      "data={'sexe[0]':2,\"sexe[1]\":3,\"page\":1}\n",
      "\n",
      "r = s.get(url,params=data)\n",
      "\n",
      "print(r.url)\n",
      "\n",
      "#print(r.text)\n",
      "print(r.encoding)\n",
      "r.encoding = 'utf-8'\n",
      "print(r.encoding)"
     ],
     "language": "python",
     "metadata": {},
     "outputs": [
      {
       "output_type": "stream",
       "stream": "stdout",
       "text": [
        "http://www.quelprenom.com/prenom-fille.php?sexe%5B1%5D=3&sexe%5B0%5D=2&page=1\n",
        "ISO-8859-1\n",
        "utf-8\n"
       ]
      }
     ],
     "prompt_number": 34
    },
    {
     "cell_type": "code",
     "collapsed": false,
     "input": [
      "from bs4 import BeautifulSoup\n",
      "\n",
      "soup = BeautifulSoup(r.text,\"lxml\")"
     ],
     "language": "python",
     "metadata": {},
     "outputs": [],
     "prompt_number": 35
    },
    {
     "cell_type": "code",
     "collapsed": false,
     "input": [
      "#print(soup.find(class='main'))\n",
      "chunk=soup.find_all('div', {'class':\"main\"})[0]\n",
      "#chunk\n",
      "raw_names = chunk.find_all('a', {'class':\"bn-lnk\"})\n",
      "try: \n",
      "    names[0]\n",
      "except NameError:\n",
      "    names=[]\n",
      "    \n",
      "for raw in raw_names:\n",
      "    names.append(raw.text.strip())\n",
      "    #print(name)\n"
     ],
     "language": "python",
     "metadata": {},
     "outputs": [],
     "prompt_number": 44
    },
    {
     "cell_type": "code",
     "collapsed": false,
     "input": [
      "print(names)"
     ],
     "language": "python",
     "metadata": {},
     "outputs": [
      {
       "output_type": "stream",
       "stream": "stdout",
       "text": [
        "['Aaliyah', 'Abiga\u00ebl', 'Abiga\u00eblle', 'Abigail', 'Abir', 'Aby', 'Abygaelle', 'Ada', 'Adama', 'Ad\u00e9la\u00efde', 'Ad\u00e8le', 'Ad\u00e9lie', 'Adeline', 'Adelyne', 'Adja', 'Adriana', 'Adriane', 'Adrianna', 'Adrienne', 'Agatha', 'Agathe', 'Aglae', 'Agnes', 'Ahlam', 'Ahlem', 'Aicha', 'Aida', 'Aim\u00e9e', 'Aimie', 'Aimy', 'Ainhoa', 'Aissata', 'Aissatou', 'Aisse', 'Aissetou', 'Alaia', 'Alais', 'Alba', 'Albane', 'Alberte']\n"
       ]
      }
     ],
     "prompt_number": 45
    },
    {
     "cell_type": "code",
     "collapsed": false,
     "input": [
      "url=\"http://www.aufeminin.com/world/maternite/prenoms/prenomresult__letter={}&sexe=2&page={}.html\"\n",
      "\n",
      "names2=[]\n",
      "for lettre in \"abcdefghijklmnopqrstuvwxyz\":\n",
      "    page=1\n",
      "    while \"Nous n'avons pas de pr\u00e9noms correspondant \u00e0 votre recherche\" not in r.text: \n",
      "        r = s.get(url.format(lettre,page),\n",
      "                  allow_redirects=True, cookies=r.cookies)\n",
      "        page+=1\n",
      "        print(r.url)\n",
      "        r.encoding = 'utf-8'\n",
      "        soup = BeautifulSoup(r.text,\"lxml\")\n",
      "        chunk=soup.find_all('div', {'class':\"main\"})[0]\n",
      "        raw_names = chunk.find_all('a', {'class':\"bn-lnk\"})\n",
      "\n",
      "        for raw in raw_names:\n",
      "            names2.append(raw.text.strip())"
     ],
     "language": "python",
     "metadata": {},
     "outputs": [
      {
       "output_type": "stream",
       "stream": "stdout",
       "text": [
        "http://www.aufeminin.com/world/maternite/prenoms/prenomresult__letter=a&sexe=2&page=1.html\n"
       ]
      },
      {
       "ename": "IndexError",
       "evalue": "list index out of range",
       "output_type": "pyerr",
       "traceback": [
        "\u001b[0;31m---------------------------------------------------------------------------\u001b[0m\n\u001b[0;31mIndexError\u001b[0m                                Traceback (most recent call last)",
        "\u001b[0;32m<ipython-input-95-7d2dd1954eb4>\u001b[0m in \u001b[0;36m<module>\u001b[0;34m()\u001b[0m\n\u001b[1;32m     11\u001b[0m         \u001b[0mr\u001b[0m\u001b[0;34m.\u001b[0m\u001b[0mencoding\u001b[0m \u001b[0;34m=\u001b[0m \u001b[0;34m'utf-8'\u001b[0m\u001b[0;34m\u001b[0m\u001b[0m\n\u001b[1;32m     12\u001b[0m         \u001b[0msoup\u001b[0m \u001b[0;34m=\u001b[0m \u001b[0mBeautifulSoup\u001b[0m\u001b[0;34m(\u001b[0m\u001b[0mr\u001b[0m\u001b[0;34m.\u001b[0m\u001b[0mtext\u001b[0m\u001b[0;34m,\u001b[0m\u001b[0;34m\"lxml\"\u001b[0m\u001b[0;34m)\u001b[0m\u001b[0;34m\u001b[0m\u001b[0m\n\u001b[0;32m---> 13\u001b[0;31m         \u001b[0mchunk\u001b[0m\u001b[0;34m=\u001b[0m\u001b[0msoup\u001b[0m\u001b[0;34m.\u001b[0m\u001b[0mfind_all\u001b[0m\u001b[0;34m(\u001b[0m\u001b[0;34m'div'\u001b[0m\u001b[0;34m,\u001b[0m \u001b[0;34m{\u001b[0m\u001b[0;34m'class'\u001b[0m\u001b[0;34m:\u001b[0m\u001b[0;34m\"main\"\u001b[0m\u001b[0;34m}\u001b[0m\u001b[0;34m)\u001b[0m\u001b[0;34m[\u001b[0m\u001b[0;36m0\u001b[0m\u001b[0;34m]\u001b[0m\u001b[0;34m\u001b[0m\u001b[0m\n\u001b[0m\u001b[1;32m     14\u001b[0m         \u001b[0mraw_names\u001b[0m \u001b[0;34m=\u001b[0m \u001b[0mchunk\u001b[0m\u001b[0;34m.\u001b[0m\u001b[0mfind_all\u001b[0m\u001b[0;34m(\u001b[0m\u001b[0;34m'a'\u001b[0m\u001b[0;34m,\u001b[0m \u001b[0;34m{\u001b[0m\u001b[0;34m'class'\u001b[0m\u001b[0;34m:\u001b[0m\u001b[0;34m\"bn-lnk\"\u001b[0m\u001b[0;34m}\u001b[0m\u001b[0;34m)\u001b[0m\u001b[0;34m\u001b[0m\u001b[0m\n\u001b[1;32m     15\u001b[0m \u001b[0;34m\u001b[0m\u001b[0m\n",
        "\u001b[0;31mIndexError\u001b[0m: list index out of range"
       ]
      }
     ],
     "prompt_number": 95
    },
    {
     "cell_type": "code",
     "collapsed": false,
     "input": [
      "url=\"http://www.quelprenom.com/prenom-fille.php?sexe%5B1%5D=3&sexe%5B0%5D=2&page={}\"\n",
      "\n",
      "names=[]\n",
      "\n",
      "for page in range(1,53): \n",
      "#for page in range(1,3): \n",
      "    \n",
      "    r = s.get(url.format(page),\n",
      "              allow_redirects=True, cookies=r.cookies)\n",
      "    r.encoding = 'utf-8'\n",
      "    print(page,end=\"\")\n",
      "    soup = BeautifulSoup(r.text,\"lxml\")\n",
      "    chunk=soup.find_all('div', {'class':\"main\"})[0]\n",
      "    raw_names = chunk.find_all('a', {'class':\"bn-lnk\"})\n",
      "\n",
      "    for raw in raw_names:\n",
      "        names.append(raw.text.strip())"
     ],
     "language": "python",
     "metadata": {},
     "outputs": [
      {
       "output_type": "stream",
       "stream": "stdout",
       "text": [
        "http://www.quelprenom.com/prenom-fille.php?sexe%5B1%5D=3&sexe%5B0%5D=2&page=1\n",
        "http://www.quelprenom.com/prenom-fille.php?sexe%5B1%5D=3&sexe%5B0%5D=2&page=2"
       ]
      },
      {
       "output_type": "stream",
       "stream": "stdout",
       "text": [
        "\n",
        "http://www.quelprenom.com/prenom-fille.php?sexe%5B1%5D=3&sexe%5B0%5D=2&page=3"
       ]
      },
      {
       "output_type": "stream",
       "stream": "stdout",
       "text": [
        "\n",
        "http://www.quelprenom.com/prenom-fille.php?sexe%5B1%5D=3&sexe%5B0%5D=2&page=4"
       ]
      },
      {
       "output_type": "stream",
       "stream": "stdout",
       "text": [
        "\n",
        "http://www.quelprenom.com/prenom-fille.php?sexe%5B1%5D=3&sexe%5B0%5D=2&page=5"
       ]
      },
      {
       "output_type": "stream",
       "stream": "stdout",
       "text": [
        "\n",
        "http://www.quelprenom.com/prenom-fille.php?sexe%5B1%5D=3&sexe%5B0%5D=2&page=6"
       ]
      },
      {
       "output_type": "stream",
       "stream": "stdout",
       "text": [
        "\n",
        "http://www.quelprenom.com/prenom-fille.php?sexe%5B1%5D=3&sexe%5B0%5D=2&page=7"
       ]
      },
      {
       "output_type": "stream",
       "stream": "stdout",
       "text": [
        "\n",
        "http://www.quelprenom.com/prenom-fille.php?sexe%5B1%5D=3&sexe%5B0%5D=2&page=8"
       ]
      },
      {
       "output_type": "stream",
       "stream": "stdout",
       "text": [
        "\n",
        "http://www.quelprenom.com/prenom-fille.php?sexe%5B1%5D=3&sexe%5B0%5D=2&page=9"
       ]
      },
      {
       "output_type": "stream",
       "stream": "stdout",
       "text": [
        "\n",
        "http://www.quelprenom.com/prenom-fille.php?sexe%5B1%5D=3&sexe%5B0%5D=2&page=10"
       ]
      },
      {
       "output_type": "stream",
       "stream": "stdout",
       "text": [
        "\n",
        "http://www.quelprenom.com/prenom-fille.php?sexe%5B1%5D=3&sexe%5B0%5D=2&page=11"
       ]
      },
      {
       "output_type": "stream",
       "stream": "stdout",
       "text": [
        "\n",
        "http://www.quelprenom.com/prenom-fille.php?sexe%5B1%5D=3&sexe%5B0%5D=2&page=12"
       ]
      },
      {
       "output_type": "stream",
       "stream": "stdout",
       "text": [
        "\n",
        "http://www.quelprenom.com/prenom-fille.php?sexe%5B1%5D=3&sexe%5B0%5D=2&page=13"
       ]
      },
      {
       "output_type": "stream",
       "stream": "stdout",
       "text": [
        "\n",
        "http://www.quelprenom.com/prenom-fille.php?sexe%5B1%5D=3&sexe%5B0%5D=2&page=14"
       ]
      },
      {
       "output_type": "stream",
       "stream": "stdout",
       "text": [
        "\n",
        "http://www.quelprenom.com/prenom-fille.php?sexe%5B1%5D=3&sexe%5B0%5D=2&page=15"
       ]
      },
      {
       "output_type": "stream",
       "stream": "stdout",
       "text": [
        "\n",
        "http://www.quelprenom.com/prenom-fille.php?sexe%5B1%5D=3&sexe%5B0%5D=2&page=16"
       ]
      },
      {
       "output_type": "stream",
       "stream": "stdout",
       "text": [
        "\n",
        "http://www.quelprenom.com/prenom-fille.php?sexe%5B1%5D=3&sexe%5B0%5D=2&page=17"
       ]
      },
      {
       "output_type": "stream",
       "stream": "stdout",
       "text": [
        "\n",
        "http://www.quelprenom.com/prenom-fille.php?sexe%5B1%5D=3&sexe%5B0%5D=2&page=18"
       ]
      },
      {
       "output_type": "stream",
       "stream": "stdout",
       "text": [
        "\n",
        "http://www.quelprenom.com/prenom-fille.php?sexe%5B1%5D=3&sexe%5B0%5D=2&page=19"
       ]
      },
      {
       "output_type": "stream",
       "stream": "stdout",
       "text": [
        "\n",
        "http://www.quelprenom.com/prenom-fille.php?sexe%5B1%5D=3&sexe%5B0%5D=2&page=20"
       ]
      },
      {
       "output_type": "stream",
       "stream": "stdout",
       "text": [
        "\n",
        "http://www.quelprenom.com/prenom-fille.php?sexe%5B1%5D=3&sexe%5B0%5D=2&page=21"
       ]
      },
      {
       "output_type": "stream",
       "stream": "stdout",
       "text": [
        "\n",
        "http://www.quelprenom.com/prenom-fille.php?sexe%5B1%5D=3&sexe%5B0%5D=2&page=22"
       ]
      },
      {
       "output_type": "stream",
       "stream": "stdout",
       "text": [
        "\n",
        "http://www.quelprenom.com/prenom-fille.php?sexe%5B1%5D=3&sexe%5B0%5D=2&page=23"
       ]
      },
      {
       "output_type": "stream",
       "stream": "stdout",
       "text": [
        "\n",
        "http://www.quelprenom.com/prenom-fille.php?sexe%5B1%5D=3&sexe%5B0%5D=2&page=24"
       ]
      },
      {
       "output_type": "stream",
       "stream": "stdout",
       "text": [
        "\n",
        "http://www.quelprenom.com/prenom-fille.php?sexe%5B1%5D=3&sexe%5B0%5D=2&page=25"
       ]
      },
      {
       "output_type": "stream",
       "stream": "stdout",
       "text": [
        "\n",
        "http://www.quelprenom.com/prenom-fille.php?sexe%5B1%5D=3&sexe%5B0%5D=2&page=26"
       ]
      },
      {
       "output_type": "stream",
       "stream": "stdout",
       "text": [
        "\n",
        "http://www.quelprenom.com/prenom-fille.php?sexe%5B1%5D=3&sexe%5B0%5D=2&page=27"
       ]
      },
      {
       "output_type": "stream",
       "stream": "stdout",
       "text": [
        "\n",
        "http://www.quelprenom.com/prenom-fille.php?sexe%5B1%5D=3&sexe%5B0%5D=2&page=28"
       ]
      },
      {
       "output_type": "stream",
       "stream": "stdout",
       "text": [
        "\n",
        "http://www.quelprenom.com/prenom-fille.php?sexe%5B1%5D=3&sexe%5B0%5D=2&page=29"
       ]
      },
      {
       "output_type": "stream",
       "stream": "stdout",
       "text": [
        "\n",
        "http://www.quelprenom.com/prenom-fille.php?sexe%5B1%5D=3&sexe%5B0%5D=2&page=30"
       ]
      },
      {
       "output_type": "stream",
       "stream": "stdout",
       "text": [
        "\n",
        "http://www.quelprenom.com/prenom-fille.php?sexe%5B1%5D=3&sexe%5B0%5D=2&page=31"
       ]
      },
      {
       "output_type": "stream",
       "stream": "stdout",
       "text": [
        "\n",
        "http://www.quelprenom.com/prenom-fille.php?sexe%5B1%5D=3&sexe%5B0%5D=2&page=32"
       ]
      },
      {
       "output_type": "stream",
       "stream": "stdout",
       "text": [
        "\n",
        "http://www.quelprenom.com/prenom-fille.php?sexe%5B1%5D=3&sexe%5B0%5D=2&page=33"
       ]
      },
      {
       "output_type": "stream",
       "stream": "stdout",
       "text": [
        "\n",
        "http://www.quelprenom.com/prenom-fille.php?sexe%5B1%5D=3&sexe%5B0%5D=2&page=34"
       ]
      },
      {
       "output_type": "stream",
       "stream": "stdout",
       "text": [
        "\n",
        "http://www.quelprenom.com/prenom-fille.php?sexe%5B1%5D=3&sexe%5B0%5D=2&page=35"
       ]
      },
      {
       "output_type": "stream",
       "stream": "stdout",
       "text": [
        "\n",
        "http://www.quelprenom.com/prenom-fille.php?sexe%5B1%5D=3&sexe%5B0%5D=2&page=36"
       ]
      },
      {
       "output_type": "stream",
       "stream": "stdout",
       "text": [
        "\n",
        "http://www.quelprenom.com/prenom-fille.php?sexe%5B1%5D=3&sexe%5B0%5D=2&page=37"
       ]
      },
      {
       "output_type": "stream",
       "stream": "stdout",
       "text": [
        "\n",
        "http://www.quelprenom.com/prenom-fille.php?sexe%5B1%5D=3&sexe%5B0%5D=2&page=38"
       ]
      },
      {
       "output_type": "stream",
       "stream": "stdout",
       "text": [
        "\n",
        "http://www.quelprenom.com/prenom-fille.php?sexe%5B1%5D=3&sexe%5B0%5D=2&page=39"
       ]
      },
      {
       "output_type": "stream",
       "stream": "stdout",
       "text": [
        "\n",
        "http://www.quelprenom.com/prenom-fille.php?sexe%5B1%5D=3&sexe%5B0%5D=2&page=40"
       ]
      },
      {
       "output_type": "stream",
       "stream": "stdout",
       "text": [
        "\n",
        "http://www.quelprenom.com/prenom-fille.php?sexe%5B1%5D=3&sexe%5B0%5D=2&page=41"
       ]
      },
      {
       "output_type": "stream",
       "stream": "stdout",
       "text": [
        "\n",
        "http://www.quelprenom.com/prenom-fille.php?sexe%5B1%5D=3&sexe%5B0%5D=2&page=42"
       ]
      },
      {
       "output_type": "stream",
       "stream": "stdout",
       "text": [
        "\n",
        "http://www.quelprenom.com/prenom-fille.php?sexe%5B1%5D=3&sexe%5B0%5D=2&page=43"
       ]
      },
      {
       "output_type": "stream",
       "stream": "stdout",
       "text": [
        "\n",
        "http://www.quelprenom.com/prenom-fille.php?sexe%5B1%5D=3&sexe%5B0%5D=2&page=44"
       ]
      },
      {
       "output_type": "stream",
       "stream": "stdout",
       "text": [
        "\n",
        "http://www.quelprenom.com/prenom-fille.php?sexe%5B1%5D=3&sexe%5B0%5D=2&page=45"
       ]
      },
      {
       "output_type": "stream",
       "stream": "stdout",
       "text": [
        "\n",
        "http://www.quelprenom.com/prenom-fille.php?sexe%5B1%5D=3&sexe%5B0%5D=2&page=46"
       ]
      },
      {
       "output_type": "stream",
       "stream": "stdout",
       "text": [
        "\n",
        "http://www.quelprenom.com/prenom-fille.php?sexe%5B1%5D=3&sexe%5B0%5D=2&page=47"
       ]
      },
      {
       "output_type": "stream",
       "stream": "stdout",
       "text": [
        "\n",
        "http://www.quelprenom.com/prenom-fille.php?sexe%5B1%5D=3&sexe%5B0%5D=2&page=48"
       ]
      },
      {
       "output_type": "stream",
       "stream": "stdout",
       "text": [
        "\n",
        "http://www.quelprenom.com/prenom-fille.php?sexe%5B1%5D=3&sexe%5B0%5D=2&page=49"
       ]
      },
      {
       "output_type": "stream",
       "stream": "stdout",
       "text": [
        "\n",
        "http://www.quelprenom.com/prenom-fille.php?sexe%5B1%5D=3&sexe%5B0%5D=2&page=50"
       ]
      },
      {
       "output_type": "stream",
       "stream": "stdout",
       "text": [
        "\n",
        "http://www.quelprenom.com/prenom-fille.php?sexe%5B1%5D=3&sexe%5B0%5D=2&page=51"
       ]
      },
      {
       "output_type": "stream",
       "stream": "stdout",
       "text": [
        "\n",
        "http://www.quelprenom.com/prenom-fille.php?sexe%5B1%5D=3&sexe%5B0%5D=2&page=52"
       ]
      },
      {
       "output_type": "stream",
       "stream": "stdout",
       "text": [
        "\n"
       ]
      }
     ],
     "prompt_number": 87
    },
    {
     "cell_type": "code",
     "collapsed": false,
     "input": [
      "len(names)"
     ],
     "language": "python",
     "metadata": {},
     "outputs": [
      {
       "metadata": {},
       "output_type": "pyout",
       "prompt_number": 89,
       "text": [
        "2050"
       ]
      }
     ],
     "prompt_number": 89
    },
    {
     "cell_type": "code",
     "collapsed": false,
     "input": [
      "\n",
      "ine,yne = 0,0\n",
      "for name in names:\n",
      "    if name.endswith(\"ine\"):\n",
      "        ine+=1\n",
      "    if name.endswith(\"yne\"):\n",
      "        yne+=1\n",
      "        \n",
      "total= len(names)\n",
      "print(\"total : {} \".format(total))\n",
      "print(\"ine : {} , {}%\".format(ine,100*ine/total))\n",
      "print(\"yne : {} , {}%\".format(yne,100*yne/total))"
     ],
     "language": "python",
     "metadata": {},
     "outputs": [
      {
       "output_type": "stream",
       "stream": "stdout",
       "text": [
        "total : 2050 \n",
        "ine : 172 , 8.390243902439025%\n",
        "yne : 20 , 0.975609756097561%\n"
       ]
      }
     ],
     "prompt_number": 93
    },
    {
     "cell_type": "code",
     "collapsed": false,
     "input": [],
     "language": "python",
     "metadata": {},
     "outputs": [
      {
       "output_type": "stream",
       "stream": "stdout",
       "text": [
        "aa"
       ]
      },
      {
       "metadata": {},
       "output_type": "pyout",
       "prompt_number": 94,
       "text": [
        "[None, None]"
       ]
      }
     ],
     "prompt_number": 94
    },
    {
     "cell_type": "code",
     "collapsed": false,
     "input": [],
     "language": "python",
     "metadata": {},
     "outputs": []
    }
   ],
   "metadata": {}
  }
 ]
}